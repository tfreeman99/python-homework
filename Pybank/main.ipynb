{
 "cells": [
  {
   "cell_type": "code",
   "execution_count": 67,
   "id": "67a68816",
   "metadata": {},
   "outputs": [],
   "source": [
    "## Initial Imports\n",
    "\n",
    "import pandas as pd"
   ]
  },
  {
   "cell_type": "code",
   "execution_count": 68,
   "id": "19d1ae21",
   "metadata": {},
   "outputs": [],
   "source": [
    "df = pd.read_csv(\"C:\\\\Users\\\\tfree\\\\Desktop\\\\MIA Fintech bc\\\\MIA-VIRT-FIN-PT-08-2023-U-LOLC\\\\02-Python\\\\Homework Instructions\\\\PyBank\\\\Resources\\\\budget_data.csv\") "
   ]
  },
  {
   "cell_type": "code",
   "execution_count": 69,
   "id": "7d88d27c",
   "metadata": {},
   "outputs": [
    {
     "data": {
      "text/html": [
       "<div>\n",
       "<style scoped>\n",
       "    .dataframe tbody tr th:only-of-type {\n",
       "        vertical-align: middle;\n",
       "    }\n",
       "\n",
       "    .dataframe tbody tr th {\n",
       "        vertical-align: top;\n",
       "    }\n",
       "\n",
       "    .dataframe thead th {\n",
       "        text-align: right;\n",
       "    }\n",
       "</style>\n",
       "<table border=\"1\" class=\"dataframe\">\n",
       "  <thead>\n",
       "    <tr style=\"text-align: right;\">\n",
       "      <th></th>\n",
       "      <th>Date</th>\n",
       "      <th>Profit/Losses</th>\n",
       "    </tr>\n",
       "  </thead>\n",
       "  <tbody>\n",
       "    <tr>\n",
       "      <th>0</th>\n",
       "      <td>Jan-2010</td>\n",
       "      <td>867884</td>\n",
       "    </tr>\n",
       "    <tr>\n",
       "      <th>1</th>\n",
       "      <td>Feb-2010</td>\n",
       "      <td>984655</td>\n",
       "    </tr>\n",
       "    <tr>\n",
       "      <th>2</th>\n",
       "      <td>Mar-2010</td>\n",
       "      <td>322013</td>\n",
       "    </tr>\n",
       "    <tr>\n",
       "      <th>3</th>\n",
       "      <td>Apr-2010</td>\n",
       "      <td>-69417</td>\n",
       "    </tr>\n",
       "    <tr>\n",
       "      <th>4</th>\n",
       "      <td>May-2010</td>\n",
       "      <td>310503</td>\n",
       "    </tr>\n",
       "    <tr>\n",
       "      <th>5</th>\n",
       "      <td>Jun-2010</td>\n",
       "      <td>522857</td>\n",
       "    </tr>\n",
       "    <tr>\n",
       "      <th>6</th>\n",
       "      <td>Jul-2010</td>\n",
       "      <td>1033096</td>\n",
       "    </tr>\n",
       "    <tr>\n",
       "      <th>7</th>\n",
       "      <td>Aug-2010</td>\n",
       "      <td>604885</td>\n",
       "    </tr>\n",
       "    <tr>\n",
       "      <th>8</th>\n",
       "      <td>Sep-2010</td>\n",
       "      <td>-216386</td>\n",
       "    </tr>\n",
       "    <tr>\n",
       "      <th>9</th>\n",
       "      <td>Oct-2010</td>\n",
       "      <td>477532</td>\n",
       "    </tr>\n",
       "  </tbody>\n",
       "</table>\n",
       "</div>"
      ],
      "text/plain": [
       "       Date  Profit/Losses\n",
       "0  Jan-2010         867884\n",
       "1  Feb-2010         984655\n",
       "2  Mar-2010         322013\n",
       "3  Apr-2010         -69417\n",
       "4  May-2010         310503\n",
       "5  Jun-2010         522857\n",
       "6  Jul-2010        1033096\n",
       "7  Aug-2010         604885\n",
       "8  Sep-2010        -216386\n",
       "9  Oct-2010         477532"
      ]
     },
     "execution_count": 69,
     "metadata": {},
     "output_type": "execute_result"
    }
   ],
   "source": [
    "df.head(10)"
   ]
  },
  {
   "cell_type": "code",
   "execution_count": 103,
   "id": "b13fdf8c",
   "metadata": {},
   "outputs": [
    {
     "name": "stdout",
     "output_type": "stream",
     "text": [
      "Total Months: 86\n"
     ]
    }
   ],
   "source": [
    "## Total number of months included in a dataset\n",
    "\n",
    "total_months = df['Date'].nunique()\n",
    "print(\"Total Months:\", total_months)"
   ]
  },
  {
   "cell_type": "code",
   "execution_count": 78,
   "id": "8ff5d85a",
   "metadata": {},
   "outputs": [
    {
     "name": "stdout",
     "output_type": "stream",
     "text": [
      "Total: $ 38382578\n"
     ]
    }
   ],
   "source": [
    "## The net total amount of Profit/Losses over the entire period\n",
    "\n",
    "net_total = df['Profit/Losses'].sum()\n",
    "print(\"Total:\",'$', net_total)"
   ]
  },
  {
   "cell_type": "code",
   "execution_count": 102,
   "id": "d0827413",
   "metadata": {},
   "outputs": [
    {
     "name": "stdout",
     "output_type": "stream",
     "text": [
      "Average change: $-2,315.12\n"
     ]
    }
   ],
   "source": [
    "## The average of the changes in Profit/Losses over the entire period.\n",
    "\n",
    "df['Difference'] = df['Profit/Losses'].diff()\n",
    "average_change = df['Difference'].mean()\n",
    "formatted_average_change = \"${:,.2f}\" .format(average_change)\n",
    "print(\"Average change:\", formatted_average_change)\n",
    "\n"
   ]
  },
  {
   "cell_type": "code",
   "execution_count": 100,
   "id": "391fcf67",
   "metadata": {},
   "outputs": [
    {
     "name": "stdout",
     "output_type": "stream",
     "text": [
      "Greatest increase in profits: Feb-2012 ($1926159)\n"
     ]
    }
   ],
   "source": [
    "## The greatest increase in profits\n",
    "\n",
    "df['Difference'] = df['Profit/Losses'].diff()\n",
    "max_increase = df['Difference'].max()\n",
    "formatted_max_increase = \"(${:.0f})\".format(max_increase)\n",
    "date_of_max_increase = df.loc[df['Difference'] == max_increase, 'Date'].values[0]\n",
    "print(\"Greatest increase in profits:\", date_of_max_increase , formatted_max_increase)\n"
   ]
  },
  {
   "cell_type": "code",
   "execution_count": 101,
   "id": "c7f48b71",
   "metadata": {},
   "outputs": [
    {
     "name": "stdout",
     "output_type": "stream",
     "text": [
      "Greatest decrease in profits: Sep-2013 ($-2196167)\n"
     ]
    }
   ],
   "source": [
    "## The Greatest decrease in profits\n",
    "\n",
    "df['Difference'] = df['Profit/Losses'].diff()\n",
    "max_decrease = df['Difference'].min()\n",
    "formatted_max_increase = \"(${:.0f})\".format(max_decrease)\n",
    "date_of_max_increase = df.loc[df['Difference'] == max_decrease, 'Date'].values[0]\n",
    "print(\"Greatest decrease in profits:\", date_of_max_increase , formatted_max_increase)\n"
   ]
  },
  {
   "cell_type": "code",
   "execution_count": null,
   "id": "fa1c6683",
   "metadata": {},
   "outputs": [],
   "source": []
  }
 ],
 "metadata": {
  "kernelspec": {
   "display_name": "Python 3 (ipykernel)",
   "language": "python",
   "name": "python3"
  },
  "language_info": {
   "codemirror_mode": {
    "name": "ipython",
    "version": 3
   },
   "file_extension": ".py",
   "mimetype": "text/x-python",
   "name": "python",
   "nbconvert_exporter": "python",
   "pygments_lexer": "ipython3",
   "version": "3.10.12"
  }
 },
 "nbformat": 4,
 "nbformat_minor": 5
}
